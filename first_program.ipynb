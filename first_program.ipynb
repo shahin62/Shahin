{
 "cells": [
  {
   "cell_type": "code",
   "execution_count": 1,
   "id": "1c6dba62",
   "metadata": {},
   "outputs": [
    {
     "name": "stdout",
     "output_type": "stream",
     "text": [
      "Hello World\n"
     ]
    }
   ],
   "source": [
    "print(\"Hello World\")"
   ]
  },
  {
   "cell_type": "code",
   "execution_count": 2,
   "id": "f7e86ebe",
   "metadata": {},
   "outputs": [
    {
     "name": "stdout",
     "output_type": "stream",
     "text": [
      "hello Shahin\n"
     ]
    }
   ],
   "source": [
    "print('hello Shahin')"
   ]
  },
  {
   "cell_type": "code",
   "execution_count": 3,
   "id": "f12a5411",
   "metadata": {},
   "outputs": [
    {
     "name": "stdout",
     "output_type": "stream",
     "text": [
      "Hello Juypter\n"
     ]
    }
   ],
   "source": [
    "print(\"Hello Juypter\")"
   ]
  },
  {
   "cell_type": "code",
   "execution_count": null,
   "id": "db9b664c",
   "metadata": {},
   "outputs": [],
   "source": []
  }
 ],
 "metadata": {
  "kernelspec": {
   "display_name": "Python 3 (ipykernel)",
   "language": "python",
   "name": "python3"
  },
  "language_info": {
   "codemirror_mode": {
    "name": "ipython",
    "version": 3
   },
   "file_extension": ".py",
   "mimetype": "text/x-python",
   "name": "python",
   "nbconvert_exporter": "python",
   "pygments_lexer": "ipython3",
   "version": "3.9.12"
  }
 },
 "nbformat": 4,
 "nbformat_minor": 5
}
